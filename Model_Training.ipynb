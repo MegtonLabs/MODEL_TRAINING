{
 "cells": [
  {
   "cell_type": "code",
   "execution_count": 1,
   "id": "44e7f62d-0a88-4974-887c-66d7854f9203",
   "metadata": {},
   "outputs": [
    {
     "name": "stdout",
     "output_type": "stream",
     "text": [
      "PyTorch version: 2.6.0+cu124\n",
      "CUDA available: True\n",
      "CUDA device name: NVIDIA GeForce RTX 3060\n"
     ]
    }
   ],
   "source": [
    "import torch\n",
    "print(f\"PyTorch version: {torch.__version__}\")\n",
    "print(f\"CUDA available: {torch.cuda.is_available()}\")\n",
    "if torch.cuda.is_available():\n",
    "     print(f\"CUDA device name: {torch.cuda.get_device_name(0)}\")"
   ]
  },
  {
   "cell_type": "code",
   "execution_count": 2,
   "id": "fba35f01-7dba-4326-bf17-f1b7a938933e",
   "metadata": {},
   "outputs": [
    {
     "name": "stdout",
     "output_type": "stream",
     "text": [
      "Hello world\n"
     ]
    }
   ],
   "source": [
    "print(\"Hello world\")"
   ]
  },
  {
   "cell_type": "code",
   "execution_count": 6,
   "id": "927f20b9",
   "metadata": {},
   "outputs": [
    {
     "name": "stdout",
     "output_type": "stream",
     "text": [
      "                                                  sms  label\n",
      "0   Go until jurong point, crazy.. Available only ...      0\n",
      "1                     Ok lar... Joking wif u oni...\\n      0\n",
      "2   Free entry in 2 a wkly comp to win FA Cup fina...      1\n",
      "3   U dun say so early hor... U c already then say...      0\n",
      "4   Nah I don't think he goes to usf, he lives aro...      0\n",
      "5   FreeMsg Hey there darling it's been 3 week's n...      1\n",
      "6   Even my brother is not like to speak with me. ...      0\n",
      "7   As per your request 'Melle Melle (Oru Minnamin...      0\n",
      "8   WINNER!! As a valued network customer you have...      1\n",
      "9   Had your mobile 11 months or more? U R entitle...      1\n",
      "10  I'm gonna be home soon and i don't want to tal...      0\n",
      "11  SIX chances to win CASH! From 100 to 20,000 po...      1\n",
      "12  URGENT! You have won a 1 week FREE membership ...      1\n",
      "13  I've been searching for the right words to tha...      0\n",
      "14              I HAVE A DATE ON SUNDAY WITH WILL!!\\n      0\n",
      "15  XXXMobileMovieClub: To use your credit, click ...      1\n",
      "16                       Oh k...i'm watching here:)\\n      0\n",
      "17  Eh u remember how 2 spell his name... Yes i di...      0\n",
      "18  Fine if thats the way u feel. Thats the way ...      0\n",
      "19  England v Macedonia - dont miss the goals/team...      1\n",
      "20        Is that seriously how you spell his name?\\n      0\n",
      "21  I‘m going to try for 2 months ha ha only joking\\n      0\n",
      "22  So ü pay first lar... Then when is da stock co...      0\n",
      "23  Aft i finish my lunch then i go str down lor. ...      0\n",
      "24  Ffffffffff. Alright no way I can meet up with ...      0\n",
      "25  Just forced myself to eat a slice. I'm really ...      0\n",
      "26                   Lol your always so convincing.\\n      0\n",
      "27  Did you catch the bus ? Are you frying an egg ...      0\n",
      "28  I'm back &amp; we're packing the car now, I'll...      0\n",
      "29  Ahhh. Work. I vaguely remember that! What does...      0\n",
      "30  Wait that's still not all that clear, were you...      0\n",
      "31  Yeah he got in at 2 and was v apologetic. n ha...      0\n",
      "32                    K tell me anything about you.\\n      0\n",
      "33  For fear of fainting with the of all that hous...      0\n",
      "34  Thanks for your subscription to Ringtone UK yo...      1\n",
      "35  Yup... Ok i go home look at the timings then i...      0\n",
      "36  Oops, I'll let you know when my roommate's done\\n      0\n",
      "37                     I see the letter B on my car\\n      0\n",
      "38                      Anything lor... U decide...\\n      0\n",
      "39  Hello! How's you and how did saturday go? I wa...      0\n",
      "40  Pls go ahead with watts. I just wanted to be s...      0\n",
      "41  Did I forget to tell you ? I want you , I need...      0\n",
      "42  07732584351 - Rodger Burns - MSG = We tried to...      1\n",
      "43                              WHO ARE YOU SEEING?\\n      0\n",
      "44  Great! I hope you like your man well endowed. ...      0\n",
      "45                 No calls..messages..missed calls\\n      0\n",
      "46    Didn't you get hep b immunisation in nigeria.\\n      0\n",
      "47                  Fair enough, anything going on?\\n      0\n",
      "48  Yeah hopefully, if tyler can't do it I could m...      0\n",
      "49  U don't know how stubborn I am. I didn't even ...      0\n"
     ]
    }
   ],
   "source": [
    "import pandas as pd\n",
    "df = pd.read_parquet(\"./datasets/Spam_Sms.parquet\")\n",
    "\n",
    "\n",
    "print(df.head(50))"
   ]
  }
 ],
 "metadata": {
  "kernelspec": {
   "display_name": ".venv (3.13.7)",
   "language": "python",
   "name": "python3"
  },
  "language_info": {
   "codemirror_mode": {
    "name": "ipython",
    "version": 3
   },
   "file_extension": ".py",
   "mimetype": "text/x-python",
   "name": "python",
   "nbconvert_exporter": "python",
   "pygments_lexer": "ipython3",
   "version": "3.13.7"
  }
 },
 "nbformat": 4,
 "nbformat_minor": 5
}
